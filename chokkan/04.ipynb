{
 "cells": [
  {
   "cell_type": "code",
   "execution_count": 1,
   "metadata": {},
   "outputs": [
    {
     "data": {
      "text/plain": [
       "'%.3f'"
      ]
     },
     "execution_count": 1,
     "metadata": {},
     "output_type": "execute_result"
    }
   ],
   "source": [
    "import matplotlib.pyplot as plt\n",
    "import numpy as np\n",
    "import pandas\n",
    "%precision 3"
   ]
  },
  {
   "cell_type": "code",
   "execution_count": 3,
   "metadata": {},
   "outputs": [],
   "source": [
    "# %% 4.9.確認問題\n",
    "# (1) リッジ回帰モデルを学習する反復式の導出\n",
    "#   確率的勾配降下法でリッジ回帰モデルを学習したい．確率的勾配降下法の反復式を導出せよ．\n",
    "\n",
    "# (2) L_2正則化を反復式から解釈する\n",
    "#   リッジ回帰では，学習中にパラメータベクトルのL_2ノルムが大きくなりすぎないように制御する．\n",
    "#  （1）で導出した反復式から，パラメータベクトルが大きくなりすぎるのを防ぐメカニズムを導出せよ．\n",
    "\n",
    "# (3)リッジ回帰の実装\n",
    "#   確率的勾配降下法でリッジ回帰のパラメータを推定するアルゴリズムを実装し，以下のデータに対して多項式近似\n",
    "#   の曲線を求めよ．ただし，便利なモジュール等は使わずに，この資料で説明した式・アルゴリズムをプログラムとして\n",
    "#   表現すること．多項式近似の次数やリッジ回帰の係数αなどのハイパーパラメータは適当に設定せよ．\n",
    "X = np.array([ 0.  ,  0.16,  0.22,  0.34,  0.44,  0.5 ,  0.67,  0.73,  0.9 ,  1.  ])\n",
    "Y = np.array([-0.06,  0.94,  0.97,  0.85,  0.25,  0.09, -0.9 , -0.93, -0.53,  0.08])\n",
    "# X = [ 0.  ,  0.16,  0.22,  0.34,  0.44,  0.5 ,  0.67,  0.73,  0.9 ,  1.  ]\n",
    "# Y = [-0.06,  0.94,  0.97,  0.85,  0.25,  0.09, -0.9 , -0.93, -0.53,  0.08]\n",
    "# np.random.seed(0)\n"
   ]
  },
  {
   "cell_type": "code",
   "execution_count": 46,
   "metadata": {},
   "outputs": [
    {
     "name": "stdout",
     "output_type": "stream",
     "text": [
      "(3)\n"
     ]
    },
    {
     "data": {
      "image/png": "[encoded data removed]",
      "text/plain": [
       "<Figure size 600x400 with 1 Axes>"
      ]
     },
     "metadata": {
      "needs_background": "light"
     },
     "output_type": "display_data"
    }
   ],
   "source": [
    "from sklearn.preprocessing import PolynomialFeatures\n",
    "print('(3)')\n",
    "def estimateParameta(X, Y, n=9, max_epochs=40000, eta0=1, eps=1e-4, alpha=0):\n",
    "    # X = np.vstack([X, np.ones_like(X)]).T\n",
    "    translormer = PolynomialFeatures(n, include_bias=True)\n",
    "    F = translormer.fit_transform(X.reshape((-1,1)))\n",
    "    w = np.zeros([F.shape[-1], 1])\n",
    "    for t in range(max_epochs):\n",
    "        eta = eta0 / np.sqrt(t+1)\n",
    "        i = np.random.randint(len(X))\n",
    "        X_i = F[i].reshape((-1,1))\n",
    "        y_hat = X_i.T @ w\n",
    "        grad = 2*(y_hat - Y[i]) * X_i + 2*(alpha*w)/len(X)\n",
    "        if np.sum(np.abs(grad)) < eps:\n",
    "            break\n",
    "        w -= eta * grad\n",
    "    return w\n",
    "        \n",
    "\n",
    "w = estimateParameta(X, Y,n=9, max_epochs=10000)\n",
    "transformer = PolynomialFeatures(9, include_bias=True)\n",
    "F = transformer.fit_transform(X.reshape((-1, 1)))\n",
    "# # w = np.polyfit(X, Y, 9)\n",
    "fig, ax = plt.subplots(dpi=100)\n",
    "ax.scatter(X, Y, c='r')\n",
    "xs = np.linspace(0, 1, 10)\n",
    "y_hat = (F @ w)\n",
    "# y_hat = np.polyval(w, xs)\n",
    "ax.plot(xs, y_hat)\n",
    "ax.set_title('$(3)$')\n",
    "ax.grid()\n",
    "plt.show()"
   ]
  },
  {
   "cell_type": "code",
   "execution_count": 42,
   "metadata": {},
   "outputs": [
    {
     "data": {
      "text/plain": [
       "array([[ 0.403],\n",
       "       [ 2.145],\n",
       "       [-3.829],\n",
       "       [-2.693],\n",
       "       [-0.881],\n",
       "       [ 0.4  ],\n",
       "       [ 1.087],\n",
       "       [ 1.323],\n",
       "       [ 1.259],\n",
       "       [ 1.005]])"
      ]
     },
     "execution_count": 42,
     "metadata": {},
     "output_type": "execute_result"
    }
   ],
   "source": [
    "model.w"
   ]
  },
  {
   "cell_type": "code",
   "execution_count": 32,
   "metadata": {},
   "outputs": [],
   "source": [
    "from sklearn.preprocessing import PolynomialFeatures\n",
    "\n",
    "\n",
    "class RidgeRegression():\n",
    "    \n",
    "    def __init__(self, degree):\n",
    "        self.degree = degree\n",
    "        self.w = None\n",
    "    \n",
    "    def train(self, X, Y, eta=1.0, alpha=1e-6, epoch=40000, eps=1e-4):\n",
    "        N = len(X)\n",
    "        transformer = PolynomialFeatures(self.degree, include_bias=True)\n",
    "        F = transformer.fit_transform(X.reshape((-1, 1)))\n",
    "        self.w = np.zeros([F.shape[-1], 1])\n",
    "        for t in range(epoch):\n",
    "            _eta = eta / np.sqrt(1 + t)\n",
    "            i = np.random.choice(N)\n",
    "            x_i = F[i].reshape((-1, 1))\n",
    "            hat_y = x_i.T @ self.w\n",
    "            grad = 2 * ((hat_y - Y[i]) * x_i + (alpha * self.w / N))\n",
    "            if np.sum(np.abs(grad)) < eps:\n",
    "                break\n",
    "            self.w -= _eta * grad\n",
    "        return self\n",
    "        \n",
    "    def predict(self, X):\n",
    "        transformer = PolynomialFeatures(self.degree, include_bias=True)\n",
    "        F = transformer.fit_transform(X.reshape((-1, 1)))\n",
    "        print(F)\n",
    "        return (F @ self.w).flatten()"
   ]
  },
  {
   "cell_type": "code",
   "execution_count": 36,
   "metadata": {},
   "outputs": [
    {
     "name": "stdout",
     "output_type": "stream",
     "text": [
      "[[1.000e+00 0.000e+00 0.000e+00 0.000e+00 0.000e+00 0.000e+00 0.000e+00\n",
      "  0.000e+00 0.000e+00 0.000e+00]\n",
      " [1.000e+00 1.600e-01 2.560e-02 4.096e-03 6.554e-04 1.049e-04 1.678e-05\n",
      "  2.684e-06 4.295e-07 6.872e-08]\n",
      " [1.000e+00 2.200e-01 4.840e-02 1.065e-02 2.343e-03 5.154e-04 1.134e-04\n",
      "  2.494e-05 5.488e-06 1.207e-06]\n",
      " [1.000e+00 3.400e-01 1.156e-01 3.930e-02 1.336e-02 4.544e-03 1.545e-03\n",
      "  5.252e-04 1.786e-04 6.072e-05]\n",
      " [1.000e+00 4.400e-01 1.936e-01 8.518e-02 3.748e-02 1.649e-02 7.256e-03\n",
      "  3.193e-03 1.405e-03 6.181e-04]\n",
      " [1.000e+00 5.000e-01 2.500e-01 1.250e-01 6.250e-02 3.125e-02 1.562e-02\n",
      "  7.812e-03 3.906e-03 1.953e-03]\n",
      " [1.000e+00 6.700e-01 4.489e-01 3.008e-01 2.015e-01 1.350e-01 9.046e-02\n",
      "  6.061e-02 4.061e-02 2.721e-02]\n",
      " [1.000e+00 7.300e-01 5.329e-01 3.890e-01 2.840e-01 2.073e-01 1.513e-01\n",
      "  1.105e-01 8.065e-02 5.887e-02]\n",
      " [1.000e+00 9.000e-01 8.100e-01 7.290e-01 6.561e-01 5.905e-01 5.314e-01\n",
      "  4.783e-01 4.305e-01 3.874e-01]\n",
      " [1.000e+00 1.000e+00 1.000e+00 1.000e+00 1.000e+00 1.000e+00 1.000e+00\n",
      "  1.000e+00 1.000e+00 1.000e+00]]\n"
     ]
    },
    {
     "data": {
      "text/plain": [
       "array([ 0.403,  0.636,  0.659,  0.576,  0.364,  0.173, -0.555, -0.815,\n",
       "       -0.931,  0.219])"
      ]
     },
     "execution_count": 36,
     "metadata": {},
     "output_type": "execute_result"
    }
   ],
   "source": [
    "model = RidgeRegression(degree=9).train(X, Y)\n",
    "model.predict(X)"
   ]
  },
  {
   "cell_type": "code",
   "execution_count": 37,
   "metadata": {},
   "outputs": [
    {
     "name": "stdout",
     "output_type": "stream",
     "text": [
      "[[1.000e+00 0.000e+00 0.000e+00 0.000e+00 0.000e+00 0.000e+00 0.000e+00\n",
      "  0.000e+00 0.000e+00 0.000e+00]\n",
      " [1.000e+00 1.600e-01 2.560e-02 4.096e-03 6.554e-04 1.049e-04 1.678e-05\n",
      "  2.684e-06 4.295e-07 6.872e-08]\n",
      " [1.000e+00 2.200e-01 4.840e-02 1.065e-02 2.343e-03 5.154e-04 1.134e-04\n",
      "  2.494e-05 5.488e-06 1.207e-06]\n",
      " [1.000e+00 3.400e-01 1.156e-01 3.930e-02 1.336e-02 4.544e-03 1.545e-03\n",
      "  5.252e-04 1.786e-04 6.072e-05]\n",
      " [1.000e+00 4.400e-01 1.936e-01 8.518e-02 3.748e-02 1.649e-02 7.256e-03\n",
      "  3.193e-03 1.405e-03 6.181e-04]\n",
      " [1.000e+00 5.000e-01 2.500e-01 1.250e-01 6.250e-02 3.125e-02 1.562e-02\n",
      "  7.812e-03 3.906e-03 1.953e-03]\n",
      " [1.000e+00 6.700e-01 4.489e-01 3.008e-01 2.015e-01 1.350e-01 9.046e-02\n",
      "  6.061e-02 4.061e-02 2.721e-02]\n",
      " [1.000e+00 7.300e-01 5.329e-01 3.890e-01 2.840e-01 2.073e-01 1.513e-01\n",
      "  1.105e-01 8.065e-02 5.887e-02]\n",
      " [1.000e+00 9.000e-01 8.100e-01 7.290e-01 6.561e-01 5.905e-01 5.314e-01\n",
      "  4.783e-01 4.305e-01 3.874e-01]\n",
      " [1.000e+00 1.000e+00 1.000e+00 1.000e+00 1.000e+00 1.000e+00 1.000e+00\n",
      "  1.000e+00 1.000e+00 1.000e+00]]\n"
     ]
    },
    {
     "data": {
      "text/plain": [
       "<AxesSubplot:xlabel='x', ylabel='y'>"
      ]
     },
     "execution_count": 37,
     "metadata": {},
     "output_type": "execute_result"
    },
    {
     "data": {
      "image/png": "[encoded data removed]",
      "text/plain": [
       "<Figure size 576x360 with 1 Axes>"
      ]
     },
     "metadata": {
      "needs_background": "light"
     },
     "output_type": "display_data"
    }
   ],
   "source": [
    "import pandas as pd\n",
    "import matplotlib.pyplot as plt\n",
    "\n",
    "\n",
    "df = pd.DataFrame({\n",
    "    \"x\": X,\n",
    "    \"y\": Y,\n",
    "    \"predict\": model.predict(X)\n",
    "})\n",
    "\n",
    "\n",
    "fig, ax = plt.subplots(figsize=(8, 5))\n",
    "df.plot.scatter(x=\"x\", y=\"y\", grid=True, ax=ax)\n",
    "df.plot.line(x=\"x\", y=\"predict\", grid=True, ax=ax)"
   ]
  },
  {
   "cell_type": "code",
   "execution_count": null,
   "metadata": {},
   "outputs": [],
   "source": []
  }
 ],
 "metadata": {
  "kernelspec": {
   "display_name": "Python 3.10.5 64-bit ('3.10.5')",
   "language": "python",
   "name": "python3"
  },
  "language_info": {
   "codemirror_mode": {
    "name": "ipython",
    "version": 3
   },
   "file_extension": ".py",
   "mimetype": "text/x-python",
   "name": "python",
   "nbconvert_exporter": "python",
   "pygments_lexer": "ipython3",
   "version": "3.10.5"
  },
  "vscode": {
   "interpreter": {
    "hash": "8e34d74ff186d5da1266835244a5b63e3cca22d85e2f92c242457c0715b552d7"
   }
  }
 },
 "nbformat": 4,
 "nbformat_minor": 2
}
