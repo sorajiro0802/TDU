{
 "cells": [
  {
   "cell_type": "code",
   "execution_count": 2,
   "metadata": {},
   "outputs": [
    {
     "data": {
      "text/plain": [
       "'%.3f'"
      ]
     },
     "execution_count": 2,
     "metadata": {},
     "output_type": "execute_result"
    }
   ],
   "source": [
    "import matplotlib.pyplot as plt\n",
    "import numpy as np\n",
    "\n",
    "%precision 3"
   ]
  },
  {
   "cell_type": "code",
   "execution_count": 142,
   "metadata": {},
   "outputs": [],
   "source": [
    "# %% 4.9.確認問題\n",
    "# (1) リッジ回帰モデルを学習する反復式の導出\n",
    "#   確率的勾配降下法でリッジ回帰モデルを学習したい．確率的勾配降下法の反復式を導出せよ．\n",
    "\n",
    "# (2) L_2正則化を反復式から解釈する\n",
    "#   リッジ回帰では，学習中にパラメータベクトルのL_2ノルムが大きくなりすぎないように制御する．\n",
    "#  （1）で導出した反復式から，パラメータベクトルが大きくなりすぎるのを防ぐメカニズムを導出せよ．\n",
    "\n",
    "# (3)リッジ回帰の実装\n",
    "#   確率的勾配降下法でリッジ回帰のパラメータを推定するアルゴリズムを実装し，以下のデータに対して多項式近似\n",
    "#   の曲線を求めよ．ただし，便利なモジュール等は使わずに，この資料で説明した式・アルゴリズムをプログラムとして\n",
    "#   表現すること．多項式近似の次数やリッジ回帰の係数αなどのハイパーパラメータは適当に設定せよ．\n",
    "X = np.array([ 0.  ,  0.16,  0.22,  0.34,  0.44,  0.5 ,  0.67,  0.73,  0.9 ,  1.  ])\n",
    "Y = np.array([-0.06,  0.94,  0.97,  0.85,  0.25,  0.09, -0.9 , -0.93, -0.53,  0.08])\n",
    "# X = [ 0.  ,  0.16,  0.22,  0.34,  0.44,  0.5 ,  0.67,  0.73,  0.9 ,  1.  ]\n",
    "# Y = [-0.06,  0.94,  0.97,  0.85,  0.25,  0.09, -0.9 , -0.93, -0.53,  0.08]\n",
    "# np.random.seed(0)\n"
   ]
  },
  {
   "cell_type": "code",
   "execution_count": 157,
   "metadata": {},
   "outputs": [
    {
     "name": "stdout",
     "output_type": "stream",
     "text": [
      "(3)\n",
      "[ 0.083 -0.173 -0.289 -0.308 -0.284 -0.248 -0.21  -0.175 -0.145 -0.12 ]\n"
     ]
    },
    {
     "data": {
      "image/png": "[encoded data removed]",
      "text/plain": [
       "<Figure size 600x400 with 1 Axes>"
      ]
     },
     "metadata": {
      "needs_background": "light"
     },
     "output_type": "display_data"
    }
   ],
   "source": [
    "print('(3)')\n",
    "def estimateParameta(X, Y, n=1, max_epochs=40000, eta0=0.03, eps=1e-8, alpha=0):\n",
    "    # X = np.vstack([X, np.ones_like(X)]).T\n",
    "    X = np.array([X**0,X**1,X**2,X**3,X**4,X**5,X**6,X**7,X**8,X**9]).T\n",
    "    w = np.zeros(X.shape[1])\n",
    "    # H = []\n",
    "    for t in range(max_epochs):\n",
    "        eta = eta0 / np.sqrt(t+1)\n",
    "        i = np.random.randint(0, X.shape[0])\n",
    "        y_hat = X[i].T @ w\n",
    "        # grad = 2*(y_hat - Y[i]) * X[i] + 2*alpha*w\n",
    "        grad = 2*X[i].T*w - 2*X[i].T*Y[i] + 2*alpha*w\n",
    "        # H.append(w)\n",
    "        if np.sum(np.abs(grad)) < eps:\n",
    "            break\n",
    "        w -= eta * grad\n",
    "    return w\n",
    "        \n",
    "\n",
    "w = estimateParameta(X, Y, max_epochs=10000)\n",
    "# w = np.polyfit(X, Y, 9)\n",
    "print(w)\n",
    "fig, ax = plt.subplots(dpi=100)\n",
    "ax.scatter(X, Y, c='r')\n",
    "xs = np.linspace(0, 1, 100)\n",
    "y_hat = w[0] + w[1]*xs + w[2]*xs**2 + w[3]*xs**3 + w[4]*xs**4 + w[5]*xs**5 + w[6]*xs**6 + w[7]*xs**7 + w[8]*xs**8 + w[9]*xs**9\n",
    "# y_hat = np.polyval(w, xs)\n",
    "ax.plot(xs, y_hat)\n",
    "ax.set_title('$(3)$')\n",
    "ax.grid()\n",
    "plt.show()"
   ]
  },
  {
   "cell_type": "code",
   "execution_count": 145,
   "metadata": {},
   "outputs": [
    {
     "data": {
      "text/plain": [
       "array([[1, 2, 3],\n",
       "       [4, 5, 6]])"
      ]
     },
     "execution_count": 145,
     "metadata": {},
     "output_type": "execute_result"
    }
   ],
   "source": [
    "a = np.array([1, 2, 3])\n",
    "b = np.array([4, 5, 6])\n",
    "\n",
    "ab = np.array([a, b])\n",
    "ab"
   ]
  },
  {
   "cell_type": "code",
   "execution_count": null,
   "metadata": {},
   "outputs": [],
   "source": []
  }
 ],
 "metadata": {
  "interpreter": {
   "hash": "00b2481376c1069fae4f546ed9886b7f4ddc6289e7590c1bfd10dd55e0d472a3"
  },
  "kernelspec": {
   "display_name": "Python 3 (ipykernel)",
   "language": "python",
   "name": "python3"
  },
  "language_info": {
   "codemirror_mode": {
    "name": "ipython",
    "version": 3
   },
   "file_extension": ".py",
   "mimetype": "text/x-python",
   "name": "python",
   "nbconvert_exporter": "python",
   "pygments_lexer": "ipython3",
   "version": "3.9.12"
  }
 },
 "nbformat": 4,
 "nbformat_minor": 2
}
