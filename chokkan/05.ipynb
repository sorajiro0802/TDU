{
 "cells": [
  {
   "cell_type": "code",
   "execution_count": 6,
   "id": "56316ab7",
   "metadata": {},
   "outputs": [],
   "source": [
    "import numpy as np\n",
    "import matplotlib.pyplot as plt"
   ]
  },
  {
   "cell_type": "code",
   "execution_count": 2,
   "id": "1e34e2db",
   "metadata": {},
   "outputs": [],
   "source": [
    "def is_spam(x):\n",
    "    if x.find('I am Victoriya') != -1:\n",
    "        return True\n",
    "    if x.find('seach for boy-friend') != -1:\n",
    "        return True\n",
    "    if x.find('Ny photos') != -1:\n",
    "        return True\n",
    "    \n",
    "    return False"
   ]
  },
  {
   "cell_type": "code",
   "execution_count": 3,
   "id": "026c7119",
   "metadata": {},
   "outputs": [
    {
     "data": {
      "text/plain": [
       "True"
      ]
     },
     "execution_count": 3,
     "metadata": {},
     "output_type": "execute_result"
    }
   ],
   "source": [
    "is_spam('I am Victoriya, I am 27 y.o.')"
   ]
  },
  {
   "cell_type": "code",
   "execution_count": 4,
   "id": "360872a8",
   "metadata": {},
   "outputs": [
    {
     "data": {
      "text/plain": [
       "-1"
      ]
     },
     "execution_count": 4,
     "metadata": {},
     "output_type": "execute_result"
    }
   ],
   "source": [
    "st = 'a bc def'\n",
    "st.find('abc')"
   ]
  },
  {
   "cell_type": "code",
   "execution_count": 5,
   "id": "0633609e",
   "metadata": {},
   "outputs": [
    {
     "data": {
      "image/png": "[encoded data removed]",
      "text/plain": [
       "<Figure size 600x400 with 1 Axes>"
      ]
     },
     "metadata": {
      "needs_background": "light"
     },
     "output_type": "display_data"
    }
   ],
   "source": [
    "fig, ax = plt.subplots(dpi=100)\n",
    "x = np.linspace(-10, 10, 1000)\n",
    "ax.plot(x, 1 / (1+np.exp(-x)))\n",
    "ax.set_xlabel('$a$')\n",
    "ax.set_ylabel('$\\sigma(a)$')\n",
    "ax.grid()\n",
    "plt.show()"
   ]
  },
  {
   "cell_type": "code",
   "execution_count": 7,
   "id": "a7cd6953",
   "metadata": {},
   "outputs": [],
   "source": [
    "def sigmoid(a):\n",
    "    return 1/(1+np.exp(-a))"
   ]
  },
  {
   "cell_type": "code",
   "execution_count": 8,
   "id": "98f20316",
   "metadata": {},
   "outputs": [
    {
     "data": {
      "text/plain": [
       "0.5"
      ]
     },
     "execution_count": 8,
     "metadata": {},
     "output_type": "execute_result"
    }
   ],
   "source": [
    "sigmoid(0)"
   ]
  },
  {
   "cell_type": "code",
   "execution_count": 9,
   "id": "04bc9a17",
   "metadata": {},
   "outputs": [
    {
     "data": {
      "text/plain": [
       "(0.9525741268224334, 0.04742587317756678)"
      ]
     },
     "execution_count": 9,
     "metadata": {},
     "output_type": "execute_result"
    }
   ],
   "source": [
    "sigmoid(3), sigmoid(-3)"
   ]
  },
  {
   "cell_type": "code",
   "execution_count": 12,
   "id": "a0e16360",
   "metadata": {},
   "outputs": [
    {
     "name": "stderr",
     "output_type": "stream",
     "text": [
      "/var/folders/31/34b84x3d0pq7msq7m4v_8v7r0000gn/T/ipykernel_77490/2796829206.py:2: RuntimeWarning: overflow encountered in exp\n",
      "  return 1/(1+np.exp(-a))\n"
     ]
    },
    {
     "data": {
      "text/plain": [
       "0.0"
      ]
     },
     "execution_count": 12,
     "metadata": {},
     "output_type": "execute_result"
    }
   ],
   "source": [
    "sigmoid(-1000.)"
   ]
  },
  {
   "cell_type": "code",
   "execution_count": 13,
   "id": "f8a5106e",
   "metadata": {},
   "outputs": [],
   "source": [
    "def sigmoid(a):\n",
    "    if 0 <= a:\n",
    "        return 1 / (1+np.exp(-1))\n",
    "    else:\n",
    "        return 1. - 1 / (1+np.exp(a))"
   ]
  },
  {
   "cell_type": "code",
   "execution_count": 14,
   "id": "dc90aa0a",
   "metadata": {},
   "outputs": [
    {
     "data": {
      "text/plain": [
       "0.0"
      ]
     },
     "execution_count": 14,
     "metadata": {},
     "output_type": "execute_result"
    }
   ],
   "source": [
    "sigmoid(-10000.)"
   ]
  },
  {
   "cell_type": "code",
   "execution_count": null,
   "id": "6471c070",
   "metadata": {},
   "outputs": [],
   "source": []
  }
 ],
 "metadata": {
  "kernelspec": {
   "display_name": "Python 3.10.5 64-bit ('3.10.5')",
   "language": "python",
   "name": "python3"
  },
  "language_info": {
   "codemirror_mode": {
    "name": "ipython",
    "version": 3
   },
   "file_extension": ".py",
   "mimetype": "text/x-python",
   "name": "python",
   "nbconvert_exporter": "python",
   "pygments_lexer": "ipython3",
   "version": "3.10.5"
  },
  "vscode": {
   "interpreter": {
    "hash": "8e34d74ff186d5da1266835244a5b63e3cca22d85e2f92c242457c0715b552d7"
   }
  }
 },
 "nbformat": 4,
 "nbformat_minor": 5
}
