{
 "cells": [
  {
   "cell_type": "code",
   "execution_count": 56,
   "id": "56316ab7",
   "metadata": {},
   "outputs": [],
   "source": [
    "import numpy as np\n",
    "import matplotlib.pyplot as plt"
   ]
  },
  {
   "cell_type": "code",
   "execution_count": 57,
   "id": "1e34e2db",
   "metadata": {},
   "outputs": [],
   "source": [
    "def is_spam(x):\n",
    "    if x.find('I am Victoriya') != -1:\n",
    "        return True\n",
    "    if x.find('seach for boy-friend') != -1:\n",
    "        return True\n",
    "    if x.find('Ny photos') != -1:\n",
    "        return True\n",
    "    \n",
    "    return False"
   ]
  },
  {
   "cell_type": "code",
   "execution_count": 58,
   "id": "026c7119",
   "metadata": {},
   "outputs": [
    {
     "data": {
      "text/plain": [
       "True"
      ]
     },
     "execution_count": 58,
     "metadata": {},
     "output_type": "execute_result"
    }
   ],
   "source": [
    "is_spam('I am Victoriya, I am 27 y.o.')"
   ]
  },
  {
   "cell_type": "code",
   "execution_count": 59,
   "id": "360872a8",
   "metadata": {},
   "outputs": [
    {
     "data": {
      "text/plain": [
       "-1"
      ]
     },
     "execution_count": 59,
     "metadata": {},
     "output_type": "execute_result"
    }
   ],
   "source": [
    "st = 'a bc def'\n",
    "st.find('abc')"
   ]
  },
  {
   "cell_type": "code",
   "execution_count": null,
   "id": "dd46aa12",
   "metadata": {},
   "outputs": [],
   "source": []
  },
  {
   "cell_type": "code",
   "execution_count": 60,
   "id": "0633609e",
   "metadata": {},
   "outputs": [
    {
     "data": {
      "image/png": "[encoded data removed]",
      "text/plain": [
       "<Figure size 600x400 with 1 Axes>"
      ]
     },
     "metadata": {
      "needs_background": "light"
     },
     "output_type": "display_data"
    }
   ],
   "source": [
    "fig, ax = plt.subplots(dpi=100)\n",
    "x = np.linspace(-10, 10, 1000)\n",
    "ax.plot(x, 1 / (1+np.exp(-x)))\n",
    "ax.set_xlabel('$a$')\n",
    "ax.set_ylabel('$\\sigma(a)$')\n",
    "ax.grid()\n",
    "plt.show()"
   ]
  },
  {
   "cell_type": "code",
   "execution_count": 61,
   "id": "a7cd6953",
   "metadata": {},
   "outputs": [],
   "source": [
    "def sigmoid(a):\n",
    "    return 1/(1+np.exp(-a))"
   ]
  },
  {
   "cell_type": "code",
   "execution_count": 62,
   "id": "98f20316",
   "metadata": {},
   "outputs": [
    {
     "data": {
      "text/plain": [
       "0.5"
      ]
     },
     "execution_count": 62,
     "metadata": {},
     "output_type": "execute_result"
    }
   ],
   "source": [
    "sigmoid(0)"
   ]
  },
  {
   "cell_type": "code",
   "execution_count": 63,
   "id": "04bc9a17",
   "metadata": {},
   "outputs": [
    {
     "data": {
      "text/plain": [
       "(0.9525741268224334, 0.04742587317756678)"
      ]
     },
     "execution_count": 63,
     "metadata": {},
     "output_type": "execute_result"
    }
   ],
   "source": [
    "sigmoid(3), sigmoid(-3)"
   ]
  },
  {
   "cell_type": "code",
   "execution_count": 64,
   "id": "a0e16360",
   "metadata": {},
   "outputs": [
    {
     "name": "stderr",
     "output_type": "stream",
     "text": [
      "/var/folders/31/34b84x3d0pq7msq7m4v_8v7r0000gn/T/ipykernel_50444/2796829206.py:2: RuntimeWarning: overflow encountered in exp\n",
      "  return 1/(1+np.exp(-a))\n"
     ]
    },
    {
     "data": {
      "text/plain": [
       "0.0"
      ]
     },
     "execution_count": 64,
     "metadata": {},
     "output_type": "execute_result"
    }
   ],
   "source": [
    "sigmoid(-1000.)"
   ]
  },
  {
   "cell_type": "code",
   "execution_count": 65,
   "id": "f8a5106e",
   "metadata": {},
   "outputs": [],
   "source": [
    "def sigmoid(a):\n",
    "    if 0 <= a:\n",
    "        return 1 / (1+np.exp(-1))\n",
    "    else:\n",
    "        return 1. - 1 / (1+np.exp(a))"
   ]
  },
  {
   "cell_type": "code",
   "execution_count": 66,
   "id": "dc90aa0a",
   "metadata": {},
   "outputs": [
    {
     "data": {
      "text/plain": [
       "0.0"
      ]
     },
     "execution_count": 66,
     "metadata": {},
     "output_type": "execute_result"
    }
   ],
   "source": [
    "sigmoid(-10000.)"
   ]
  },
  {
   "cell_type": "code",
   "execution_count": 67,
   "id": "6471c070",
   "metadata": {},
   "outputs": [],
   "source": [
    "import collections\n",
    "\n",
    "def tokenize(s):\n",
    "    return [t.rstrip('.') for t in s.split(' ')]\n",
    "\n",
    "def vectorize(tokens):\n",
    "    return collections.Counter(tokens)\n",
    "\n",
    "def readiter(fi):\n",
    "    for line in fi:\n",
    "        fields = line.strip('\\n').split('\\t')\n",
    "        x = vectorize(tokenize(fields[1]))\n",
    "        y = fields[0]\n",
    "        yield x, y\n",
    "\n",
    "with open(\"SMSSpamCollection\") as fi:\n",
    "    D = [d for d in readiter(fi)]"
   ]
  },
  {
   "cell_type": "code",
   "execution_count": 68,
   "id": "6d67191b",
   "metadata": {},
   "outputs": [
    {
     "data": {
      "text/plain": [
       "(Counter({\"I've\": 1,\n",
       "          'been': 2,\n",
       "          'searching': 1,\n",
       "          'for': 3,\n",
       "          'the': 1,\n",
       "          'right': 1,\n",
       "          'words': 1,\n",
       "          'to': 1,\n",
       "          'thank': 1,\n",
       "          'you': 1,\n",
       "          'this': 1,\n",
       "          'breather': 1,\n",
       "          'I': 1,\n",
       "          'promise': 2,\n",
       "          'i': 1,\n",
       "          'wont': 1,\n",
       "          'take': 1,\n",
       "          'your': 1,\n",
       "          'help': 1,\n",
       "          'granted': 1,\n",
       "          'and': 2,\n",
       "          'will': 1,\n",
       "          'fulfil': 1,\n",
       "          'my': 1,\n",
       "          'You': 1,\n",
       "          'have': 1,\n",
       "          'wonderful': 1,\n",
       "          'a': 1,\n",
       "          'blessing': 1,\n",
       "          'at': 1,\n",
       "          'all': 1,\n",
       "          'times': 1}),\n",
       " 'ham')"
      ]
     },
     "execution_count": 68,
     "metadata": {},
     "output_type": "execute_result"
    }
   ],
   "source": [
    "D[13]"
   ]
  },
  {
   "cell_type": "code",
   "execution_count": 69,
   "id": "6c3d4d56",
   "metadata": {},
   "outputs": [],
   "source": [
    "from sklearn.model_selection import train_test_split\n",
    "\n",
    "Dtrain, Dtest = train_test_split(D, test_size=0.1, random_state=0)"
   ]
  },
  {
   "cell_type": "code",
   "execution_count": 70,
   "id": "636bd165",
   "metadata": {},
   "outputs": [],
   "source": [
    "from sklearn.preprocessing import LabelEncoder\n",
    "from sklearn.feature_extraction import DictVectorizer\n",
    "\n",
    "VX = DictVectorizer()\n",
    "VY = LabelEncoder()\n",
    "\n",
    "Xtrain = VX.fit_transform([d[0] for d in Dtrain])\n",
    "Ytrain = VY.fit_transform([d[1] for d in Dtrain])\n",
    "Xtest = VX.transform([d[0] for d in Dtest])\n",
    "Ytest = VY.transform([d[1] for d in Dtest])"
   ]
  },
  {
   "cell_type": "code",
   "execution_count": null,
   "id": "7f2f6b54",
   "metadata": {},
   "outputs": [],
   "source": []
  },
  {
   "cell_type": "code",
   "execution_count": 71,
   "id": "24889d0c",
   "metadata": {},
   "outputs": [
    {
     "data": {
      "text/plain": [
       "(Counter({'I': 1,\n",
       "          'take': 1,\n",
       "          'it': 2,\n",
       "          'we': 3,\n",
       "          \"didn't\": 1,\n",
       "          'have': 2,\n",
       "          'the': 1,\n",
       "          'phone': 1,\n",
       "          'callon': 1,\n",
       "          'Friday': 1,\n",
       "          'Can': 1,\n",
       "          'assume': 1,\n",
       "          \"won't\": 1,\n",
       "          'this': 1,\n",
       "          'year': 1,\n",
       "          'now?': 1}),\n",
       " 'ham')"
      ]
     },
     "execution_count": 71,
     "metadata": {},
     "output_type": "execute_result"
    }
   ],
   "source": [
    "Dtrain[10]"
   ]
  },
  {
   "cell_type": "code",
   "execution_count": 72,
   "id": "e38be140",
   "metadata": {},
   "outputs": [
    {
     "name": "stdout",
     "output_type": "stream",
     "text": [
      "  (0, 1831)\t1.0\n",
      "  (0, 2385)\t1.0\n",
      "  (0, 2769)\t1.0\n",
      "  (0, 5546)\t1.0\n",
      "  (0, 6110)\t1.0\n",
      "  (0, 6923)\t1.0\n",
      "  (0, 8101)\t2.0\n",
      "  (0, 8587)\t2.0\n",
      "  (0, 9821)\t1.0\n",
      "  (0, 10231)\t1.0\n",
      "  (0, 11832)\t1.0\n",
      "  (0, 11957)\t1.0\n",
      "  (0, 12014)\t1.0\n",
      "  (0, 12653)\t3.0\n",
      "  (0, 12862)\t1.0\n",
      "  (0, 13030)\t1.0\n"
     ]
    }
   ],
   "source": [
    "print(Xtrain[10])"
   ]
  },
  {
   "cell_type": "code",
   "execution_count": null,
   "id": "9ecbddee",
   "metadata": {},
   "outputs": [],
   "source": []
  },
  {
   "cell_type": "code",
   "execution_count": 73,
   "id": "61bedaa9",
   "metadata": {},
   "outputs": [
    {
     "data": {
      "text/plain": [
       "'Can'"
      ]
     },
     "execution_count": 73,
     "metadata": {},
     "output_type": "execute_result"
    }
   ],
   "source": [
    "VX.feature_names_[1831]"
   ]
  },
  {
   "cell_type": "code",
   "execution_count": 74,
   "id": "3e6e25e8",
   "metadata": {},
   "outputs": [
    {
     "name": "stdout",
     "output_type": "stream",
     "text": [
      "0\n"
     ]
    }
   ],
   "source": [
    "print(Ytrain[10])"
   ]
  },
  {
   "cell_type": "code",
   "execution_count": 75,
   "id": "7813cc50",
   "metadata": {},
   "outputs": [
    {
     "data": {
      "text/plain": [
       "array(['ham', 'spam'], dtype='<U4')"
      ]
     },
     "execution_count": 75,
     "metadata": {},
     "output_type": "execute_result"
    }
   ],
   "source": [
    "VY.classes_"
   ]
  },
  {
   "cell_type": "code",
   "execution_count": 76,
   "id": "b8a930ea",
   "metadata": {},
   "outputs": [
    {
     "data": {
      "text/html": [
       "<style>#sk-container-id-2 {color: black;background-color: white;}#sk-container-id-2 pre{padding: 0;}#sk-container-id-2 div.sk-toggleable {background-color: white;}#sk-container-id-2 label.sk-toggleable__label {cursor: pointer;display: block;width: 100%;margin-bottom: 0;padding: 0.3em;box-sizing: border-box;text-align: center;}#sk-container-id-2 label.sk-toggleable__label-arrow:before {content: \"▸\";float: left;margin-right: 0.25em;color: #696969;}#sk-container-id-2 label.sk-toggleable__label-arrow:hover:before {color: black;}#sk-container-id-2 div.sk-estimator:hover label.sk-toggleable__label-arrow:before {color: black;}#sk-container-id-2 div.sk-toggleable__content {max-height: 0;max-width: 0;overflow: hidden;text-align: left;background-color: #f0f8ff;}#sk-container-id-2 div.sk-toggleable__content pre {margin: 0.2em;color: black;border-radius: 0.25em;background-color: #f0f8ff;}#sk-container-id-2 input.sk-toggleable__control:checked~div.sk-toggleable__content {max-height: 200px;max-width: 100%;overflow: auto;}#sk-container-id-2 input.sk-toggleable__control:checked~label.sk-toggleable__label-arrow:before {content: \"▾\";}#sk-container-id-2 div.sk-estimator input.sk-toggleable__control:checked~label.sk-toggleable__label {background-color: #d4ebff;}#sk-container-id-2 div.sk-label input.sk-toggleable__control:checked~label.sk-toggleable__label {background-color: #d4ebff;}#sk-container-id-2 input.sk-hidden--visually {border: 0;clip: rect(1px 1px 1px 1px);clip: rect(1px, 1px, 1px, 1px);height: 1px;margin: -1px;overflow: hidden;padding: 0;position: absolute;width: 1px;}#sk-container-id-2 div.sk-estimator {font-family: monospace;background-color: #f0f8ff;border: 1px dotted black;border-radius: 0.25em;box-sizing: border-box;margin-bottom: 0.5em;}#sk-container-id-2 div.sk-estimator:hover {background-color: #d4ebff;}#sk-container-id-2 div.sk-parallel-item::after {content: \"\";width: 100%;border-bottom: 1px solid gray;flex-grow: 1;}#sk-container-id-2 div.sk-label:hover label.sk-toggleable__label {background-color: #d4ebff;}#sk-container-id-2 div.sk-serial::before {content: \"\";position: absolute;border-left: 1px solid gray;box-sizing: border-box;top: 0;bottom: 0;left: 50%;z-index: 0;}#sk-container-id-2 div.sk-serial {display: flex;flex-direction: column;align-items: center;background-color: white;padding-right: 0.2em;padding-left: 0.2em;position: relative;}#sk-container-id-2 div.sk-item {position: relative;z-index: 1;}#sk-container-id-2 div.sk-parallel {display: flex;align-items: stretch;justify-content: center;background-color: white;position: relative;}#sk-container-id-2 div.sk-item::before, #sk-container-id-2 div.sk-parallel-item::before {content: \"\";position: absolute;border-left: 1px solid gray;box-sizing: border-box;top: 0;bottom: 0;left: 50%;z-index: -1;}#sk-container-id-2 div.sk-parallel-item {display: flex;flex-direction: column;z-index: 1;position: relative;background-color: white;}#sk-container-id-2 div.sk-parallel-item:first-child::after {align-self: flex-end;width: 50%;}#sk-container-id-2 div.sk-parallel-item:last-child::after {align-self: flex-start;width: 50%;}#sk-container-id-2 div.sk-parallel-item:only-child::after {width: 0;}#sk-container-id-2 div.sk-dashed-wrapped {border: 1px dashed gray;margin: 0 0.4em 0.5em 0.4em;box-sizing: border-box;padding-bottom: 0.4em;background-color: white;}#sk-container-id-2 div.sk-label label {font-family: monospace;font-weight: bold;display: inline-block;line-height: 1.2em;}#sk-container-id-2 div.sk-label-container {text-align: center;}#sk-container-id-2 div.sk-container {/* jupyter's `normalize.less` sets `[hidden] { display: none; }` but bootstrap.min.css set `[hidden] { display: none !important; }` so we also need the `!important` here to be able to override the default hidden behavior on the sphinx rendered scikit-learn.org. See: https://github.com/scikit-learn/scikit-learn/issues/21755 */display: inline-block !important;position: relative;}#sk-container-id-2 div.sk-text-repr-fallback {display: none;}</style><div id=\"sk-container-id-2\" class=\"sk-top-container\"><div class=\"sk-text-repr-fallback\"><pre>SGDClassifier(loss=&#x27;log_loss&#x27;)</pre><b>In a Jupyter environment, please rerun this cell to show the HTML representation or trust the notebook. <br />On GitHub, the HTML representation is unable to render, please try loading this page with nbviewer.org.</b></div><div class=\"sk-container\" hidden><div class=\"sk-item\"><div class=\"sk-estimator sk-toggleable\"><input class=\"sk-toggleable__control sk-hidden--visually\" id=\"sk-estimator-id-2\" type=\"checkbox\" checked><label for=\"sk-estimator-id-2\" class=\"sk-toggleable__label sk-toggleable__label-arrow\">SGDClassifier</label><div class=\"sk-toggleable__content\"><pre>SGDClassifier(loss=&#x27;log_loss&#x27;)</pre></div></div></div></div></div>"
      ],
      "text/plain": [
       "SGDClassifier(loss='log_loss')"
      ]
     },
     "execution_count": 76,
     "metadata": {},
     "output_type": "execute_result"
    }
   ],
   "source": [
    "from sklearn.linear_model import SGDClassifier\n",
    "\n",
    "model = SGDClassifier(loss='log_loss')\n",
    "model.fit(Xtrain, Ytrain)"
   ]
  },
  {
   "cell_type": "code",
   "execution_count": 77,
   "id": "7205c9f3",
   "metadata": {},
   "outputs": [
    {
     "data": {
      "text/plain": [
       "array([0])"
      ]
     },
     "execution_count": 77,
     "metadata": {},
     "output_type": "execute_result"
    }
   ],
   "source": [
    "model.predict(Xtest[0])"
   ]
  },
  {
   "cell_type": "code",
   "execution_count": 78,
   "id": "c0d08a04",
   "metadata": {},
   "outputs": [
    {
     "data": {
      "text/plain": [
       "array([[0.99731589, 0.00268411]])"
      ]
     },
     "execution_count": 78,
     "metadata": {},
     "output_type": "execute_result"
    }
   ],
   "source": [
    "model.predict_proba(Xtest[0])"
   ]
  },
  {
   "cell_type": "code",
   "execution_count": 79,
   "id": "acdb0921",
   "metadata": {},
   "outputs": [
    {
     "data": {
      "text/plain": [
       "0.967741935483871"
      ]
     },
     "execution_count": 79,
     "metadata": {},
     "output_type": "execute_result"
    }
   ],
   "source": [
    "model.score(Xtest, Ytest)"
   ]
  },
  {
   "cell_type": "code",
   "execution_count": 80,
   "id": "7b7c0417",
   "metadata": {},
   "outputs": [
    {
     "data": {
      "text/plain": [
       "array([[0.31757836, 0.68242164]])"
      ]
     },
     "execution_count": 80,
     "metadata": {},
     "output_type": "execute_result"
    }
   ],
   "source": [
    "msg = \"Your account has been credited with 500 FREE Text Messages.\"\n",
    "model.predict_proba(VX.transform(vectorize(tokenize(msg))))"
   ]
  },
  {
   "cell_type": "code",
   "execution_count": 81,
   "id": "0ed0ca01",
   "metadata": {},
   "outputs": [
    {
     "name": "stdout",
     "output_type": "stream",
     "text": [
      "  (0, 997)\t1.0\n",
      "  (0, 2296)\t1.0\n",
      "  (0, 3338)\t1.0\n",
      "  (0, 4549)\t1.0\n",
      "  (0, 5114)\t1.0\n",
      "  (0, 5182)\t1.0\n",
      "  (0, 5746)\t1.0\n",
      "  (0, 6652)\t1.0\n",
      "  (0, 8088)\t1.0\n",
      "  (0, 12828)\t1.0\n"
     ]
    }
   ],
   "source": [
    "print(VX.transform(vectorize(tokenize(msg))))"
   ]
  },
  {
   "cell_type": "code",
   "execution_count": 82,
   "id": "1e78e5b7",
   "metadata": {},
   "outputs": [
    {
     "data": {
      "text/plain": [
       "array([1])"
      ]
     },
     "execution_count": 82,
     "metadata": {},
     "output_type": "execute_result"
    }
   ],
   "source": [
    "model.predict(VX.transform(vectorize(tokenize(msg))))"
   ]
  },
  {
   "cell_type": "code",
   "execution_count": 83,
   "metadata": {},
   "outputs": [
    {
     "data": {
      "text/plain": [
       "array([[-0.87062814, -0.26195068, -0.0052404 , ...,  0.29360703,\n",
       "        -0.068845  , -0.00110501]])"
      ]
     },
     "execution_count": 83,
     "metadata": {},
     "output_type": "execute_result"
    }
   ],
   "source": [
    "model.coef_"
   ]
  },
  {
   "cell_type": "code",
   "execution_count": 84,
   "id": "88704ca5",
   "metadata": {},
   "outputs": [],
   "source": [
    "F = sorted(zip(VX.feature_names_, model.coef_[0]), key=lambda x: x[1])"
   ]
  },
  {
   "cell_type": "code",
   "execution_count": 85,
   "id": "19f46d16",
   "metadata": {},
   "outputs": [
    {
     "data": {
      "text/plain": [
       "[('him', -1.2410065421822043),\n",
       " ('me', -1.1449585592375209),\n",
       " ('I', -1.096709843723779),\n",
       " ('simple', -1.0876402265123755),\n",
       " (\"I'll\", -1.0011449623924031),\n",
       " ('&amp;', -0.9992988048724901),\n",
       " ('Happy', -0.9867559741583719),\n",
       " ('Yes', -0.9804875439887741),\n",
       " ('&lt;#&gt;', -0.9646755960810582),\n",
       " ('i', -0.9637478687647103),\n",
       " ('bring', -0.9313985311267506),\n",
       " ('Lol', -0.900409025460171),\n",
       " ('what', -0.8907027643421462),\n",
       " ('And', -0.8842573322135856),\n",
       " ('my', -0.8773147121570536),\n",
       " ('', -0.8706281382727308),\n",
       " (':)', -0.8551905003035479),\n",
       " ('that', -0.824483489612856),\n",
       " ('My', -0.8217900174041202),\n",
       " ('ask', -0.8057721887142808)]"
      ]
     },
     "execution_count": 85,
     "metadata": {},
     "output_type": "execute_result"
    }
   ],
   "source": [
    "F[:20]"
   ]
  },
  {
   "cell_type": "code",
   "execution_count": 86,
   "id": "e9c3dac0",
   "metadata": {},
   "outputs": [],
   "source": [
    "import numpy as np\n",
    "\n",
    "\n",
    "class LogisticClassifier():\n",
    "    \n",
    "    def __init__(self):\n",
    "        self.w = None\n",
    "    \n",
    "    def sigmoid(self, a):\n",
    "        # refer 5.3.1\n",
    "        return (0 <= a) * (1 / (1 + np.exp(-a))) + (0 > a) * (1. - 1 / (1 + np.exp(a)))\n",
    "    \n",
    "    def train(self, X, Y, eta=1.0, alpha=1e-6, epoch=40000, eps=1e-6):\n",
    "        N = X.shape[0]\n",
    "        self.w = np.random.uniform(size=(X.shape[-1], 1))\n",
    "        for t in range(epoch):\n",
    "            i = np.random.choice(N)\n",
    "            delta = (Y[i] - self.predict_proba(X[i])) * X[i]\n",
    "            delta = delta.reshape((-1, 1)) - 2 * alpha * self.w / N\n",
    "            if np.sum(np.abs(delta)) < eps:\n",
    "                break\n",
    "            self.w += eta * delta\n",
    "        return self\n",
    "    \n",
    "    def predict_proba(self, X):\n",
    "        y = self.sigmoid(X @ self.w)\n",
    "        return y.flatten()\n",
    "\n",
    "    def predict(self, X, threshold=0.5):\n",
    "        return (self.predict_proba(X) >= threshold).astype(int)"
   ]
  },
  {
   "cell_type": "code",
   "execution_count": 87,
   "id": "4f21d431",
   "metadata": {},
   "outputs": [
    {
     "data": {
      "text/plain": [
       "1.8670276962649746"
      ]
     },
     "execution_count": 87,
     "metadata": {},
     "output_type": "execute_result"
    }
   ],
   "source": [
    "np.random.uniform(low=1, high=3)"
   ]
  },
  {
   "cell_type": "code",
   "execution_count": 88,
   "id": "5321bb69",
   "metadata": {},
   "outputs": [
    {
     "data": {
      "text/plain": [
       "<AxesSubplot:xlabel='x'>"
      ]
     },
     "execution_count": 88,
     "metadata": {},
     "output_type": "execute_result"
    },
    {
     "data": {
      "image/png": "[encoded data removed]",
      "text/plain": [
       "<Figure size 432x288 with 1 Axes>"
      ]
     },
     "metadata": {
      "needs_background": "light"
     },
     "output_type": "display_data"
    }
   ],
   "source": [
    "import pandas as pd\n",
    "\n",
    "pd.DataFrame({\n",
    "    \"x\":np.arange(-10, 10, 0.1),\n",
    "    \"y\":LogisticClassifier().sigmoid(np.arange(-10, 10, 0.1))\n",
    "}).plot.line(x='x', y='y')"
   ]
  },
  {
   "cell_type": "code",
   "execution_count": 89,
   "id": "d71c5c8b",
   "metadata": {},
   "outputs": [],
   "source": [
    "def test_train():\n",
    "    X = np.array([[1.0, 0.0, 0.0], [0.0, 0.1, 0.], [1.0, 0.0, 0.0]])\n",
    "    y = np.array([1, 0, 1])\n",
    "    model = LogisticClassifier().train(X, y, eps=0)\n",
    "    np.testing.assert_allclose(y, model.predict_proba(X), atol=0.01)\n",
    "\n",
    "test_train()"
   ]
  },
  {
   "cell_type": "code",
   "execution_count": 97,
   "metadata": {},
   "outputs": [],
   "source": [
    "from collections import Counter\n",
    "from sklearn.preprocessing import LabelEncoder\n",
    "from sklearn.feature_extraction import DictVectorizer\n",
    "\n",
    "\n",
    "class Converter():\n",
    "    \n",
    "    def __init__(self):\n",
    "        self.vectorizer = None\n",
    "        self.encoder = None\n",
    "\n",
    "    def tokenize(self, text):\n",
    "        return [s.rstrip('.') for s in text.split(' ')]\n",
    "\n",
    "    def to_dict(self, tokens):\n",
    "        return Counter(tokens)\n",
    "\n",
    "    def read_file(self, file_name):\n",
    "        dataset = []\n",
    "        with open(file_name) as f:\n",
    "            for line in f.readlines():\n",
    "                fields = line.strip('\\n').split('\\t')\n",
    "                y = fields[0]\n",
    "                x = self.to_dict(self.tokenize(fields[1]))\n",
    "                dataset.append((x, y))\n",
    "        return dataset\n",
    "    \n",
    "    def fit_transform(self, dataset):\n",
    "        self.vectorizer = DictVectorizer()\n",
    "        self.encoder = LabelEncoder()\n",
    "        X = self.vectorizer.fit_transform([d[0] for d in dataset])\n",
    "        y = self.encoder.fit_transform([d[1] for d in dataset])\n",
    "        return X, y\n",
    "    \n",
    "    def transform(self, dataset):\n",
    "        X = self.vectorizer.transform([d[0] for d in dataset])\n",
    "        y = self.encoder.transform([d[1] for d in dataset])\n",
    "        return X, y   "
   ]
  },
  {
   "cell_type": "code",
   "execution_count": 99,
   "id": "d18869d4",
   "metadata": {},
   "outputs": [],
   "source": [
    "converter = Converter()\n",
    "dataset = converter.read_file('SMSSpamCollection')\n"
   ]
  },
  {
   "cell_type": "code",
   "execution_count": 100,
   "id": "adbb861e",
   "metadata": {},
   "outputs": [],
   "source": [
    "from sklearn.model_selection import train_test_split\n",
    "\n",
    "trainData, testData = train_test_split(dataset, test_size=0.1, random_state=0)"
   ]
  },
  {
   "cell_type": "code",
   "execution_count": 101,
   "id": "7588b207",
   "metadata": {},
   "outputs": [
    {
     "data": {
      "text/plain": [
       "(5016, 558)"
      ]
     },
     "execution_count": 101,
     "metadata": {},
     "output_type": "execute_result"
    }
   ],
   "source": [
    "len(trainData), len(testData)"
   ]
  },
  {
   "cell_type": "code",
   "execution_count": 102,
   "id": "d5107879",
   "metadata": {},
   "outputs": [],
   "source": [
    "X, y = converter.fit_transform(trainData)"
   ]
  },
  {
   "cell_type": "code",
   "execution_count": 104,
   "id": "5cbad9e9",
   "metadata": {},
   "outputs": [],
   "source": [
    "model = LogisticClassifier().train(X, y, eta=1.0, alpha=1e-6, epoch=100000, eps=1e-6)"
   ]
  },
  {
   "cell_type": "code",
   "execution_count": 105,
   "id": "85cfc299",
   "metadata": {},
   "outputs": [],
   "source": [
    "Xtest, ytest = converter.transform(testData)"
   ]
  },
  {
   "cell_type": "code",
   "execution_count": 107,
   "id": "a6a2a999",
   "metadata": {},
   "outputs": [
    {
     "name": "stdout",
     "output_type": "stream",
     "text": [
      "              precision    recall  f1-score   support\n",
      "\n",
      "           0       0.97      0.98      0.98       469\n",
      "           1       0.88      0.87      0.87        89\n",
      "\n",
      "    accuracy                           0.96       558\n",
      "   macro avg       0.92      0.92      0.92       558\n",
      "weighted avg       0.96      0.96      0.96       558\n",
      "\n"
     ]
    }
   ],
   "source": [
    "from sklearn.metrics import classification_report\n",
    "\n",
    "print(classification_report(ytest, model.predict(Xtest)))"
   ]
  },
  {
   "cell_type": "code",
   "execution_count": 110,
   "id": "c92aa73e",
   "metadata": {},
   "outputs": [],
   "source": [
    "weight = pd.Series(model.w.flatten(), index=converter.vectorizer.feature_names_)"
   ]
  },
  {
   "cell_type": "code",
   "execution_count": 112,
   "id": "a0bf3dfb",
   "metadata": {},
   "outputs": [
    {
     "data": {
      "text/plain": [
       "Txt            8.259487\n",
       "txt            6.929548\n",
       "let's          6.768294\n",
       "Luv            6.308502\n",
       "sexy           5.723937\n",
       "FREE           5.566591\n",
       "Text           5.241073\n",
       "won            5.223087\n",
       "truly          5.202239\n",
       "claim          5.024960\n",
       "STOP           4.937241\n",
       "mobile         4.926765\n",
       "won't          4.905244\n",
       "UK             4.878080\n",
       "£1.50          4.844335\n",
       "who            4.811693\n",
       "07090201529    4.751420\n",
       "Call           4.728915\n",
       "&              4.621889\n",
       "Reply          4.581355\n",
       "dtype: float64"
      ]
     },
     "execution_count": 112,
     "metadata": {},
     "output_type": "execute_result"
    }
   ],
   "source": [
    "weight.nlargest(20)"
   ]
  },
  {
   "cell_type": "code",
   "execution_count": 113,
   "id": "5f17ff32",
   "metadata": {},
   "outputs": [
    {
     "data": {
      "text/plain": [
       "face        -9.569009\n",
       "Ok          -6.630428\n",
       "d           -6.528781\n",
       "Its         -5.911310\n",
       "me          -5.467888\n",
       "&lt;#&gt;   -5.065730\n",
       "But         -5.033706\n",
       "Yup         -5.016504\n",
       "Okie        -4.793286\n",
       "No          -4.753414\n",
       "Where       -4.648143\n",
       "my          -4.644060\n",
       "            -4.629090\n",
       "Happy       -4.599789\n",
       "I'll        -4.542323\n",
       "I           -4.514865\n",
       "i           -4.496601\n",
       "So          -4.432924\n",
       "that        -4.367934\n",
       "got         -4.329459\n",
       "dtype: float64"
      ]
     },
     "execution_count": 113,
     "metadata": {},
     "output_type": "execute_result"
    }
   ],
   "source": [
    "weight.nsmallest(20)"
   ]
  },
  {
   "cell_type": "code",
   "execution_count": null,
   "id": "529ff560",
   "metadata": {},
   "outputs": [],
   "source": []
  }
 ],
 "metadata": {
  "kernelspec": {
   "display_name": "Python 3.10.5 64-bit ('3.10.5')",
   "language": "python",
   "name": "python3"
  },
  "language_info": {
   "codemirror_mode": {
    "name": "ipython",
    "version": 3
   },
   "file_extension": ".py",
   "mimetype": "text/x-python",
   "name": "python",
   "nbconvert_exporter": "python",
   "pygments_lexer": "ipython3",
   "version": "3.10.5"
  },
  "vscode": {
   "interpreter": {
    "hash": "8e34d74ff186d5da1266835244a5b63e3cca22d85e2f92c242457c0715b552d7"
   }
  }
 },
 "nbformat": 4,
 "nbformat_minor": 5
}
