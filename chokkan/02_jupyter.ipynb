{
 "cells": [
  {
   "cell_type": "code",
   "execution_count": 4,
   "id": "33e16fef",
   "metadata": {},
   "outputs": [],
   "source": [
    "import numpy as np\n",
    "import matplotlib.pyplot as plt\n",
    "import japanize_matplotlib"
   ]
  },
  {
   "cell_type": "code",
   "execution_count": 2,
   "id": "a12201bb",
   "metadata": {},
   "outputs": [],
   "source": [
    "def Cov(x, y):\n",
    "    return np.mean(x*y) - np.mean(x)*np.mean(y)\n",
    "\n",
    "def Var(x):\n",
    "    return np.sum((x - np.mean(x))**2)"
   ]
  },
  {
   "cell_type": "code",
   "execution_count": 47,
   "id": "f23c0c53",
   "metadata": {},
   "outputs": [],
   "source": [
    "D = np.array([[1,3], [3,6], [6,5],[8,7]])"
   ]
  },
  {
   "cell_type": "code",
   "execution_count": 59,
   "id": "353d75e2",
   "metadata": {},
   "outputs": [
    {
     "name": "stdout",
     "output_type": "stream",
     "text": [
      "[[1 1]\n",
      " [1 3]\n",
      " [1 6]\n",
      " [1 8]]\n",
      "--------\n",
      "[[1 1 1 1]\n",
      " [1 3 6 8]]\n"
     ]
    }
   ],
   "source": [
    "x = D[:, 0]\n",
    "y = D[:, 1]\n",
    "X = np.array([[1,x[0]], [1, x[1]], [1, x[2]], [1, x[3]]])\n",
    "print(X)\n",
    "print('--------')\n",
    "print(X.T)"
   ]
  },
  {
   "cell_type": "code",
   "execution_count": 71,
   "id": "79cd332b",
   "metadata": {},
   "outputs": [],
   "source": [
    "H = np.dot(X.T, X)"
   ]
  },
  {
   "cell_type": "code",
   "execution_count": 72,
   "id": "3ada625a",
   "metadata": {},
   "outputs": [],
   "source": [
    "H_inv = np.array([[110, -18], [-18, 4]]) / (4*110 - 18*18)"
   ]
  },
  {
   "cell_type": "code",
   "execution_count": 92,
   "id": "e717e05b",
   "metadata": {},
   "outputs": [
    {
     "data": {
      "text/plain": [
       "array([ 21, 107])"
      ]
     },
     "execution_count": 92,
     "metadata": {},
     "output_type": "execute_result"
    }
   ],
   "source": [
    "S = X.T @  y.T\n",
    "S"
   ]
  },
  {
   "cell_type": "code",
   "execution_count": 93,
   "id": "068d6fba",
   "metadata": {},
   "outputs": [
    {
     "data": {
      "text/plain": [
       "array([3.31034483, 0.43103448])"
      ]
     },
     "execution_count": 93,
     "metadata": {},
     "output_type": "execute_result"
    }
   ],
   "source": [
    "w = H_inv @ S\n",
    "w"
   ]
  },
  {
   "cell_type": "code",
   "execution_count": 94,
   "id": "62986016",
   "metadata": {},
   "outputs": [
    {
     "data": {
      "text/plain": [
       "array([0.43103448, 3.31034483])"
      ]
     },
     "execution_count": 94,
     "metadata": {},
     "output_type": "execute_result"
    }
   ],
   "source": [
    "p = np.polyfit(x, y, 1)\n",
    "p"
   ]
  },
  {
   "cell_type": "code",
   "execution_count": 26,
   "id": "5801426b",
   "metadata": {},
   "outputs": [
    {
     "name": "stdout",
     "output_type": "stream",
     "text": [
      "[[1 1]\n",
      " [1 3]\n",
      " [1 6]\n",
      " [1 8]] [3 6 5 7]\n"
     ]
    },
    {
     "data": {
      "text/plain": [
       "array([[  4,  18],\n",
       "       [ 18, 110]])"
      ]
     },
     "execution_count": 26,
     "metadata": {},
     "output_type": "execute_result"
    }
   ],
   "source": [
    "X = np.array([[1,1], [1, 3], [1,6], [1, 8]])\n",
    "Y = np.array([3, 6, 5, 7])\n",
    "print(X, Y)\n",
    "X.T @ X"
   ]
  },
  {
   "cell_type": "code",
   "execution_count": 28,
   "id": "f302d7cf",
   "metadata": {},
   "outputs": [
    {
     "data": {
      "text/plain": [
       "array([3.31034483, 0.43103448])"
      ]
     },
     "execution_count": 28,
     "metadata": {},
     "output_type": "execute_result"
    }
   ],
   "source": [
    "W = np.linalg.inv(X.T@X)@X.T@Y\n",
    "W"
   ]
  },
  {
   "cell_type": "code",
   "execution_count": null,
   "id": "1d0201d5",
   "metadata": {},
   "outputs": [],
   "source": []
  }
 ],
 "metadata": {
  "kernelspec": {
   "display_name": "Python 3 (ipykernel)",
   "language": "python",
   "name": "python3"
  },
  "language_info": {
   "codemirror_mode": {
    "name": "ipython",
    "version": 3
   },
   "file_extension": ".py",
   "mimetype": "text/x-python",
   "name": "python",
   "nbconvert_exporter": "python",
   "pygments_lexer": "ipython3",
   "version": "3.9.7"
  }
 },
 "nbformat": 4,
 "nbformat_minor": 5
}
